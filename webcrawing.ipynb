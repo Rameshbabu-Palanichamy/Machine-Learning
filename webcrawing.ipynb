{
  "nbformat": 4,
  "nbformat_minor": 0,
  "metadata": {
    "colab": {
      "name": "webcrawing",
      "provenance": [],
      "authorship_tag": "ABX9TyOxhNlXytfcFtLpPdQH3nNo",
      "include_colab_link": true
    },
    "kernelspec": {
      "name": "python3",
      "display_name": "Python 3"
    }
  },
  "cells": [
    {
      "cell_type": "markdown",
      "metadata": {
        "id": "view-in-github",
        "colab_type": "text"
      },
      "source": [
        "<a href=\"https://colab.research.google.com/github/rameshbabuatreyu/Machine-Learning/blob/master/webcrawing.ipynb\" target=\"_parent\"><img src=\"https://colab.research.google.com/assets/colab-badge.svg\" alt=\"Open In Colab\"/></a>"
      ]
    },
    {
      "cell_type": "code",
      "metadata": {
        "id": "n5TyO8FDZ1CA"
      },
      "source": [
        "from datetime import date\r\n",
        "today=date.today()"
      ],
      "execution_count": 1,
      "outputs": []
    },
    {
      "cell_type": "code",
      "metadata": {
        "colab": {
          "base_uri": "https://localhost:8080/"
        },
        "id": "5Cgi1VK-aynh",
        "outputId": "689597f7-a2bb-4cde-bf15-948687a93045"
      },
      "source": [
        "d=today.strftime(\"%m-%d-%y\")\r\n",
        "print(\"date =\", d)"
      ],
      "execution_count": 5,
      "outputs": [
        {
          "output_type": "stream",
          "text": [
            "date = 12-10-20\n"
          ],
          "name": "stdout"
        }
      ]
    },
    {
      "cell_type": "code",
      "metadata": {
        "id": "FTkMliMBa-1X"
      },
      "source": [
        "cnn_url=\"https://edition.cnn.com/world/live-news/coronavirus-pandemic-{}-intl/index.html\".format(d)"
      ],
      "execution_count": 6,
      "outputs": []
    },
    {
      "cell_type": "code",
      "metadata": {
        "colab": {
          "base_uri": "https://localhost:8080/"
        },
        "id": "Fa_wvqEDbgXW",
        "outputId": "7b9ff020-80c0-4a40-8936-e87fd295d07c"
      },
      "source": [
        "print(cnn_url)"
      ],
      "execution_count": 7,
      "outputs": [
        {
          "output_type": "stream",
          "text": [
            "https://edition.cnn.com/world/live-news/coronavirus-pandemic-12-10-20-intl/index.html\n"
          ],
          "name": "stdout"
        }
      ]
    },
    {
      "cell_type": "code",
      "metadata": {
        "id": "t635sY6FbjTH"
      },
      "source": [
        "from bs4 import BeautifulSoup\r\n",
        "import requests"
      ],
      "execution_count": 8,
      "outputs": []
    },
    {
      "cell_type": "code",
      "metadata": {
        "id": "sQkDJg_Db3mQ"
      },
      "source": [
        "html=requests.get(cnn_url).text"
      ],
      "execution_count": 9,
      "outputs": []
    },
    {
      "cell_type": "code",
      "metadata": {
        "colab": {
          "base_uri": "https://localhost:8080/"
        },
        "id": "XEG1_UDvb_rD",
        "outputId": "fe83aceb-2974-4f20-c6dd-2d89e0b35039"
      },
      "source": [
        "soup=BeautifulSoup(html)\r\n",
        "print(soup.title)"
      ],
      "execution_count": 10,
      "outputs": [
        {
          "output_type": "stream",
          "text": [
            "<title data-rh=\"true\">Coronavirus update: Latest news from around the world</title>\n"
          ],
          "name": "stdout"
        }
      ]
    },
    {
      "cell_type": "code",
      "metadata": {
        "id": "9wPBNtQFcHzY"
      },
      "source": [
        "import spacy\r\n",
        "nlp = spacy.load('en_core_web_sm')"
      ],
      "execution_count": 13,
      "outputs": []
    },
    {
      "cell_type": "code",
      "metadata": {
        "colab": {
          "base_uri": "https://localhost:8080/"
        },
        "id": "CmIQPXZGc1r5",
        "outputId": "7dcba27c-35dc-4cd0-f53e-70c5d1354279"
      },
      "source": [
        "for link in soup.find_all(\"h2\"):\r\n",
        "  print (\"Headline : {}\".format(link.text))\r\n",
        "  for ent in nlp(link.text).ents:\r\n",
        "    print(\"\\tText : {}, Entity : {}\".format(ent.text,ent.label_))"
      ],
      "execution_count": 17,
      "outputs": [
        {
          "output_type": "stream",
          "text": [
            "Headline : What you need to know\n",
            "Headline : A Reno hospital turned its parking garage into a new wing to treat coronavirus patients\n",
            "\tText : Reno, Entity : GPE\n",
            "Headline : Germany's Covid-19 numbers are \"rising and that is worrying,\" say health officials after record cases\n",
            "\tText : Germany, Entity : GPE\n",
            "Headline : Hackers access Pfizer/BioNTech vaccine documents in cyberattack on European regulator\n",
            "\tText : Pfizer/BioNTech, Entity : ORG\n",
            "\tText : European, Entity : NORP\n",
            "Headline : Americans need to stay vigilant to avoid \"unthinkable death toll,\" expert says\n",
            "\tText : Americans, Entity : NORP\n",
            "Headline : Vaccine meeting offers glimmer of hope for the future while Trump harps on the past\n",
            "\tText : Trump, Entity : PRODUCT\n",
            "Headline : Germany struggles to contain surge in new infections as deaths continue to climb\n",
            "\tText : Germany, Entity : GPE\n",
            "Headline : US reports record number of daily Covid-19 deaths\n",
            "\tText : US, Entity : GPE\n",
            "\tText : daily, Entity : DATE\n",
            "Headline : Japan reports record number of new Covid-19 infections\n",
            "\tText : Japan, Entity : GPE\n",
            "Headline : Mexico signs deal for 35 million doses of Chinese Covid-19 vaccine\n",
            "\tText : Mexico, Entity : GPE\n",
            "\tText : 35 million, Entity : CARDINAL\n",
            "\tText : Chinese, Entity : NORP\n"
          ],
          "name": "stdout"
        }
      ]
    },
    {
      "cell_type": "code",
      "metadata": {
        "id": "S5gQLboydyoA"
      },
      "source": [
        ""
      ],
      "execution_count": null,
      "outputs": []
    }
  ]
}